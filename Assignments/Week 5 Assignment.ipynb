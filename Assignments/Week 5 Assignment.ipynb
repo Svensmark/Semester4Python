{
 "nbformat": 4,
 "nbformat_minor": 2,
 "metadata": {
  "language_info": {
   "name": "python",
   "codemirror_mode": {
    "name": "ipython",
    "version": 3
   },
   "version": "3.7.4-final"
  },
  "orig_nbformat": 2,
  "file_extension": ".py",
  "mimetype": "text/x-python",
  "name": "python",
  "npconvert_exporter": "python",
  "pygments_lexer": "ipython3",
  "version": 3,
  "kernelspec": {
   "name": "python37464bitbasecondaddd531bb66b44626a1bd37a702b7af8d",
   "display_name": "Python 3.7.4 64-bit ('base': conda)"
  }
 },
 "cells": [
  {
   "cell_type": "code",
   "execution_count": 5,
   "metadata": {},
   "outputs": [],
   "source": [
    "import wget\n",
    "import os\n",
    "import multiprocessing\n",
    "from concurrent.futures import ThreadPoolExecutor\n",
    "\n",
    "class NotFoundException(ValueError):\n",
    "    def __init__(self, *args, **kwargs):\n",
    "        ValueError.__init__(self, *args, **kwargs)\n",
    "\n",
    "class URLDownloader():\n",
    "    def __init__(self, url_list):\n",
    "        self.url_list = url_list\n",
    "        self.files = []\n",
    "\n",
    "    def download(self, url, filename=None):\n",
    "        try:\n",
    "            if(filename != None):\n",
    "                return wget.download(url, './{}'.format(filename))\n",
    "            else:\n",
    "                return wget.download(url)\n",
    "        except:\n",
    "            raise NotFoundException('Error: 404 file not found')\n",
    "\n",
    "    def multithreading(self, func, args, workers=5):\n",
    "        with ThreadPoolExecutor(workers) as ex:\n",
    "            res = ex.map(func, args)\n",
    "        return list(res)\n",
    "\n",
    "    def multi_download(self):\n",
    "        self.files = self.multithreading(self.download, self.url_list, 5)\n",
    "\n",
    "    def urllist_generator(self):\n",
    "        for f in self.url_list:\n",
    "            yield f\n",
    "\n",
    "    def __iter__(self):\n",
    "        self.idx = 0\n",
    "        return self\n",
    "\n",
    "    def __next__(self):\n",
    "        cidx = self.idx\n",
    "        self.idx += 1\n",
    "        if cidx < len(self.url_list):\n",
    "            return self.url_list[cidx]\n",
    "        else:\n",
    "            raise StopIteration\n",
    "\n",
    "    def load_files(self):\n",
    "        for f in self.files:\n",
    "            yield f\n",
    "\n",
    "    #def avg_vowels(self, txt):\n",
    ""
   ]
  },
  {
   "cell_type": "code",
   "execution_count": 82,
   "metadata": {},
   "outputs": [
    {
     "data": {
      "text/plain": "['https://www.google.dk/',\n 'https://twitter.com/',\n 'https://github.com/',\n 'https://www.facebook.com/']"
     },
     "execution_count": 82,
     "metadata": {},
     "output_type": "execute_result"
    }
   ],
   "source": [
    "urld = URLDownloader(['https://www.google.dk/', 'https://twitter.com/', 'https://github.com/', 'https://www.facebook.com/'])\n",
    "\n",
    "#urld.download('https://www.google.dk/ghngv', 'test.html')\n",
    "\n",
    "\n",
    "#urld.multi_download()\n",
    "\n",
    "[f for f in urld]"
   ]
  },
  {
   "cell_type": "code",
   "execution_count": 6,
   "metadata": {},
   "outputs": [
    {
     "output_type": "execute_result",
     "data": {
      "text/plain": "'./twitter.txt'"
     },
     "metadata": {},
     "execution_count": 6
    }
   ],
   "source": [
    "urld = URLDownloader('https://snap.stanford.edu/data/twitter_combined.txt.gz')\n",
    "urld.download('https://snap.stanford.edu/data/twitter_combined.txt', 'twitter.txt')"
   ]
  },
  {
   "cell_type": "code",
   "execution_count": null,
   "metadata": {},
   "outputs": [],
   "source": []
  }
 ]
}