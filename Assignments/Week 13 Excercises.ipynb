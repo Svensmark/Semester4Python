{
 "nbformat": 4,
 "nbformat_minor": 2,
 "metadata": {
  "language_info": {
   "name": "python",
   "codemirror_mode": {
    "name": "ipython",
    "version": 3
   },
   "version": "3.7.4-final"
  },
  "orig_nbformat": 2,
  "file_extension": ".py",
  "mimetype": "text/x-python",
  "name": "python",
  "npconvert_exporter": "python",
  "pygments_lexer": "ipython3",
  "version": 3,
  "kernelspec": {
   "name": "python37464bitbasecondaddd531bb66b44626a1bd37a702b7af8d",
   "display_name": "Python 3.7.4 64-bit ('base': conda)"
  }
 },
 "cells": [
  {
   "cell_type": "code",
   "execution_count": 67,
   "metadata": {},
   "outputs": [
    {
     "output_type": "execute_result",
     "data": {
      "text/plain": "0.7180851063829787"
     },
     "metadata": {},
     "execution_count": 67
    }
   ],
   "source": [
    "import numpy as np \n",
    "import pandas as pd \n",
    "from sklearn.metrics import confusion_matrix \n",
    "from sklearn.model_selection import train_test_split \n",
    "from sklearn.tree import DecisionTreeClassifier \n",
    "from sklearn.metrics import accuracy_score \n",
    "from sklearn.metrics import classification_report\n",
    "\n",
    "headers = [\"target\",\"balance\",\"scale\",\"weight\",\"distance\"]\n",
    "data = pd.read_csv(\"balance-scale.data\", header = None, names = headers)\n",
    "data.head()\n",
    "\n",
    "Y = data[\"target\"]\n",
    "X = data.drop(\"target\", axis=\"columns\")\n",
    "\n",
    "model = DecisionTreeClassifier(criterion=\"gini\", random_state=100,max_depth=3, min_samples_leaf=5)\n",
    "\n",
    "X_train, X_test, Y_train, Y_test = train_test_split(X, Y, test_size = 0.3)\n",
    "model.fit(X_train, Y_train)\n",
    "Y_predicted = model.predict(X_test)\n",
    "\n",
    "accuracy_score(Y_test, Y_predicted)\n"
   ]
  }
 ]
}