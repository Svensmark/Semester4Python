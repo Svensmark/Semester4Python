{
 "nbformat": 4,
 "nbformat_minor": 2,
 "metadata": {
  "language_info": {
   "name": "python",
   "codemirror_mode": {
    "name": "ipython",
    "version": 3
   },
   "version": "3.7.4-final"
  },
  "orig_nbformat": 2,
  "file_extension": ".py",
  "mimetype": "text/x-python",
  "name": "python",
  "npconvert_exporter": "python",
  "pygments_lexer": "ipython3",
  "version": 3,
  "kernelspec": {
   "name": "python37464bitbasecondaddd531bb66b44626a1bd37a702b7af8d",
   "display_name": "Python 3.7.4 64-bit ('base': conda)"
  }
 },
 "cells": [
  {
   "cell_type": "code",
   "execution_count": 11,
   "metadata": {},
   "outputs": [
    {
     "output_type": "stream",
     "name": "stdout",
     "text": "5.199.130.188\n162.247.74.217\n50.35.73.6\n89.163.239.216\n108.87.82.181\n216.151.180.191\n139.99.172.11\n217.170.205.107\n68.184.5.12\n185.107.47.171\n185.220.101.57\n185.220.102.4\n193.218.118.90\n199.249.230.69\n199.249.230.123\n185.220.101.25\n209.141.34.95\n213.179.54.190\n174.130.215.196\n185.220.101.6\n68.184.5.12\n199.249.230.69\n89.163.239.216\n"
    }
   ],
   "source": [
    "import csv\n",
    "import re\n",
    "\n",
    "data = \"\"\n",
    "with open('Week 10 data.csv', newline='') as csvfile:\n",
    "     spamreader = csv.reader(csvfile, delimiter=' ', quotechar='|')\n",
    "     for row in spamreader:\n",
    "         data += ', '.join(row)\n",
    "\n",
    "#Regex to find all ips from the data\n",
    "iplist = re.findall(r\"\\b\\d{1,3}\\.\\d{1,3}\\.\\d{1,3}\\.\\d{1,3}\\b\", data)\n",
    "\n",
    "for ip in iplist:\n",
    "    print(ip)"
   ]
  },
  {
   "cell_type": "code",
   "execution_count": 20,
   "metadata": {},
   "outputs": [],
   "source": [
    "from selenium import webdriver\n",
    "\n",
    "def get_info_from_ip(ip_adress):\n",
    "    base_url = 'https://www.whois.com/whois/'\n",
    "    browser = webdriver.Firefox()\n",
    "    browser.get(base_url)\n",
    "    browser.implicitly_wait(3)\n",
    "\n",
    "    search_field = browser.find_element_by_id('query')\n",
    "    search_field.send_keys(ip_adress)\n",
    "    search_field.submit()\n",
    "    browser.implicitly_wait(3)\n",
    "\n",
    "get_info_from_ip(iplist[1])\n",
    "\n"
   ]
  },
  {
   "cell_type": "code",
   "execution_count": 66,
   "metadata": {},
   "outputs": [
    {
     "output_type": "stream",
     "name": "stdout",
     "text": "NetName: CALYX-INSTITUTE-V4-1\nNetRange: 162.247.72.0 - 162.247.75.255\nAddress: 254 36th Street  &  Suite C660 / Unit 48\nState: NY\nPostal Code: 11232\nCountry: UNITED STATES\nRegistered: 2020-03-28 16:49:01.000 UTC\n\n"
    }
   ],
   "source": [
    "import urllib.request, json \n",
    "import csv\n",
    "import pandas as pd\n",
    "\n",
    "def get_data(ip):\n",
    "    dataDict = {}\n",
    "    apiurl = \"https://www.whoisxmlapi.com/whoisserver/WhoisService?apiKey=at_t2u2Pp9Bnj7oFDPlooIhuzf8Ribr9&outputFormat=JSON&domainName=\"+str(ip)\n",
    "    with urllib.request.urlopen(apiurl) as url:\n",
    "        data = json.loads(url.read().decode())\n",
    "        netName = data['WhoisRecord']['registryData']['customField2Value']\n",
    "        netRange = data['WhoisRecord']['registryData']['customField1Value']\n",
    "        street1 = data['WhoisRecord']['registryData']['registrant']['street1']\n",
    "        street2 = data['WhoisRecord']['registryData']['registrant']['street2']\n",
    "        address = street1 + \"  &  \" + street2\n",
    "        state = data['WhoisRecord']['registryData']['registrant']['state']\n",
    "        postalCode = data['WhoisRecord']['registryData']['registrant']['postalCode']\n",
    "        country = data['WhoisRecord']['registryData']['registrant']['country']\n",
    "        regDate = data['WhoisRecord']['audit']['createdDate']\n",
    "\n",
    "        print(\"NetName: \" + netName)\n",
    "        dataDict[\"NetName\"] = netName\n",
    "        print(\"NetRange: \" + netRange)\n",
    "        dataDict[\"NetRange\"] = netRange\n",
    "        print(\"Address: \" + address)\n",
    "        dataDict[\"Address\"] = address\n",
    "        print(\"State: \" + state)\n",
    "        dataDict[\"State\"] = state\n",
    "        print(\"Postal Code: \" + postalCode)\n",
    "        dataDict[\"Postal Code\"] = postalCode\n",
    "        print(\"Country: \" + country)\n",
    "        dataDict[\"Country\"] = country\n",
    "        print(\"Registered: \" + regDate)\n",
    "        dataDict[\"Registered\"] = regDate\n",
    "        print(\"\")\n",
    "\n",
    "        return dataDict\n",
    "\n",
    "df = pd.DataFrame(get_data(iplist[1]),index=[0])\n",
    "df.to_csv('Week 10 resultdata.csv')"
   ]
  },
  {
   "cell_type": "code",
   "execution_count": null,
   "metadata": {},
   "outputs": [],
   "source": []
  }
 ]
}