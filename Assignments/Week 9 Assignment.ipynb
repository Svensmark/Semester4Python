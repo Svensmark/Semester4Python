{
 "nbformat": 4,
 "nbformat_minor": 2,
 "metadata": {
  "language_info": {
   "name": "python",
   "codemirror_mode": {
    "name": "ipython",
    "version": 3
   },
   "version": "3.7.4-final"
  },
  "orig_nbformat": 2,
  "file_extension": ".py",
  "mimetype": "text/x-python",
  "name": "python",
  "npconvert_exporter": "python",
  "pygments_lexer": "ipython3",
  "version": 3,
  "kernelspec": {
   "name": "python37464bitbasecondaddd531bb66b44626a1bd37a702b7af8d",
   "display_name": "Python 3.7.4 64-bit ('base': conda)"
  }
 },
 "cells": [
  {
   "cell_type": "code",
   "execution_count": 7,
   "metadata": {},
   "outputs": [
    {
     "output_type": "stream",
     "name": "stdout",
     "text": "Name: \nType: Graph\nNumber of nodes: 81306\nNumber of edges: 1342310\nAverage degree:  33.0187\n"
    }
   ],
   "source": [
    "import networkx as nx\n",
    "\n",
    "g = nx.read_edgelist('twitter_combined.txt')\n",
    "\n",
    "\n",
    "print(nx.info(g))"
   ]
  },
  {
   "cell_type": "code",
   "execution_count": 32,
   "metadata": {},
   "outputs": [
    {
     "output_type": "stream",
     "name": "stdout",
     "text": "Index of the node with most connections: 1758\nThe amount of connections this node has: 3383\n"
    },
    {
     "output_type": "error",
     "ename": "NameError",
     "evalue": "name 'mtr' is not defined",
     "traceback": [
      "\u001b[1;31m---------------------------------------------------------------------------\u001b[0m",
      "\u001b[1;31mNameError\u001b[0m                                 Traceback (most recent call last)",
      "\u001b[1;32m<ipython-input-32-fa5fc9cad599>\u001b[0m in \u001b[0;36m<module>\u001b[1;34m\u001b[0m\n\u001b[0;32m     11\u001b[0m \u001b[0mprint\u001b[0m\u001b[1;33m(\u001b[0m\u001b[1;34m'Index of the node with most connections: '\u001b[0m \u001b[1;33m+\u001b[0m \u001b[0mstr\u001b[0m\u001b[1;33m(\u001b[0m\u001b[0mnp\u001b[0m\u001b[1;33m.\u001b[0m\u001b[0margmax\u001b[0m\u001b[1;33m(\u001b[0m\u001b[0min_deg_vec\u001b[0m\u001b[1;33m)\u001b[0m\u001b[1;33m)\u001b[0m\u001b[1;33m)\u001b[0m\u001b[1;33m\u001b[0m\u001b[1;33m\u001b[0m\u001b[0m\n\u001b[0;32m     12\u001b[0m \u001b[0mprint\u001b[0m\u001b[1;33m(\u001b[0m\u001b[1;34m'The amount of connections this node has: '\u001b[0m \u001b[1;33m+\u001b[0m \u001b[0mstr\u001b[0m\u001b[1;33m(\u001b[0m\u001b[0mmax_ind_deg\u001b[0m\u001b[1;33m)\u001b[0m\u001b[1;33m)\u001b[0m\u001b[1;33m\u001b[0m\u001b[1;33m\u001b[0m\u001b[0m\n\u001b[1;32m---> 13\u001b[1;33m print('The number of the node:                  ' + mtr(list(g.nodes())[np.argmax(in_deg_vec)]\n\u001b[0m\u001b[0;32m     14\u001b[0m ))\n",
      "\u001b[1;31mNameError\u001b[0m: name 'mtr' is not defined"
     ]
    }
   ],
   "source": [
    "import numpy as np\n",
    "import networkx as nx\n",
    "\n",
    "g = nx.read_edgelist('twitter_combined.txt')\n",
    "\n",
    "in_deg_vec = np.array([g.degree(n) for n in g.nodes()])\n",
    "max_ind_deg = in_deg_vec.max()\n",
    "\n",
    "\n",
    "\n",
    "print('Index of the node with most connections: ' + str(np.argmax(in_deg_vec)))\n",
    "print('The amount of connections this node has: ' + str(max_ind_deg))\n",
    "print('The number of the node:                  ' + str(list(g.nodes())[np.argmax(in_deg_vec)]\n",
    "))"
   ]
  },
  {
   "cell_type": "code",
   "execution_count": null,
   "metadata": {},
   "outputs": [],
   "source": []
  }
 ]
}